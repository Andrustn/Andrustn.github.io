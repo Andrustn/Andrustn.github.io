{
 "cells": [
  {
   "cell_type": "code",
   "execution_count": 1,
   "id": "68d68f58",
   "metadata": {},
   "outputs": [],
   "source": [
    "import pandas as pd\n",
    "import numpy as np\n",
    "import matplotlib.pyplot as plt\n",
    "import re\n",
    "from nltk import wordpunct_tokenize, word_tokenize, sent_tokenize\n",
    "from nltk.corpus import stopwords\n",
    "from nltk.stem import PorterStemmer\n",
    "from nltk.stem import WordNetLemmatizer\n",
    "from sklearn.feature_extraction.text import CountVectorizer\n",
    "from sklearn.feature_extraction.text import TfidfVectorizer\n",
    "from sklearn.model_selection import train_test_split\n",
    "from sklearn import preprocessing"
   ]
  },
  {
   "cell_type": "code",
   "execution_count": 2,
   "id": "3fc0ebf3",
   "metadata": {},
   "outputs": [],
   "source": [
    "# Reading in the data\n",
    "\n",
    "Combined_Lyrics = pd.read_csv('Combined_Lyrics.csv')"
   ]
  },
  {
   "cell_type": "code",
   "execution_count": 3,
   "id": "28cc0a1b",
   "metadata": {},
   "outputs": [
    {
     "data": {
      "text/plain": [
       "['i',\n",
       " 'me',\n",
       " 'my',\n",
       " 'myself',\n",
       " 'we',\n",
       " 'our',\n",
       " 'ours',\n",
       " 'ourselves',\n",
       " 'you',\n",
       " \"you're\",\n",
       " \"you've\",\n",
       " \"you'll\",\n",
       " \"you'd\",\n",
       " 'your',\n",
       " 'yours',\n",
       " 'yourself',\n",
       " 'yourselves',\n",
       " 'he',\n",
       " 'him',\n",
       " 'his',\n",
       " 'himself',\n",
       " 'she',\n",
       " \"she's\",\n",
       " 'her',\n",
       " 'hers',\n",
       " 'herself',\n",
       " 'it',\n",
       " \"it's\",\n",
       " 'its',\n",
       " 'itself',\n",
       " 'they',\n",
       " 'them',\n",
       " 'their',\n",
       " 'theirs',\n",
       " 'themselves',\n",
       " 'what',\n",
       " 'which',\n",
       " 'who',\n",
       " 'whom',\n",
       " 'this',\n",
       " 'that',\n",
       " \"that'll\",\n",
       " 'these',\n",
       " 'those',\n",
       " 'am',\n",
       " 'is',\n",
       " 'are',\n",
       " 'was',\n",
       " 'were',\n",
       " 'be',\n",
       " 'been',\n",
       " 'being',\n",
       " 'have',\n",
       " 'has',\n",
       " 'had',\n",
       " 'having',\n",
       " 'do',\n",
       " 'does',\n",
       " 'did',\n",
       " 'doing',\n",
       " 'a',\n",
       " 'an',\n",
       " 'the',\n",
       " 'and',\n",
       " 'but',\n",
       " 'if',\n",
       " 'or',\n",
       " 'because',\n",
       " 'as',\n",
       " 'until',\n",
       " 'while',\n",
       " 'of',\n",
       " 'at',\n",
       " 'by',\n",
       " 'for',\n",
       " 'with',\n",
       " 'about',\n",
       " 'against',\n",
       " 'between',\n",
       " 'into',\n",
       " 'through',\n",
       " 'during',\n",
       " 'before',\n",
       " 'after',\n",
       " 'above',\n",
       " 'below',\n",
       " 'to',\n",
       " 'from',\n",
       " 'up',\n",
       " 'down',\n",
       " 'in',\n",
       " 'out',\n",
       " 'on',\n",
       " 'off',\n",
       " 'over',\n",
       " 'under',\n",
       " 'again',\n",
       " 'further',\n",
       " 'then',\n",
       " 'once',\n",
       " 'here',\n",
       " 'there',\n",
       " 'when',\n",
       " 'where',\n",
       " 'why',\n",
       " 'how',\n",
       " 'all',\n",
       " 'any',\n",
       " 'both',\n",
       " 'each',\n",
       " 'few',\n",
       " 'more',\n",
       " 'most',\n",
       " 'other',\n",
       " 'some',\n",
       " 'such',\n",
       " 'no',\n",
       " 'nor',\n",
       " 'not',\n",
       " 'only',\n",
       " 'own',\n",
       " 'same',\n",
       " 'so',\n",
       " 'than',\n",
       " 'too',\n",
       " 'very',\n",
       " 's',\n",
       " 't',\n",
       " 'can',\n",
       " 'will',\n",
       " 'just',\n",
       " 'don',\n",
       " \"don't\",\n",
       " 'should',\n",
       " \"should've\",\n",
       " 'now',\n",
       " 'd',\n",
       " 'll',\n",
       " 'm',\n",
       " 'o',\n",
       " 're',\n",
       " 've',\n",
       " 'y',\n",
       " 'ain',\n",
       " 'aren',\n",
       " \"aren't\",\n",
       " 'couldn',\n",
       " \"couldn't\",\n",
       " 'didn',\n",
       " \"didn't\",\n",
       " 'doesn',\n",
       " \"doesn't\",\n",
       " 'hadn',\n",
       " \"hadn't\",\n",
       " 'hasn',\n",
       " \"hasn't\",\n",
       " 'haven',\n",
       " \"haven't\",\n",
       " 'isn',\n",
       " \"isn't\",\n",
       " 'ma',\n",
       " 'mightn',\n",
       " \"mightn't\",\n",
       " 'mustn',\n",
       " \"mustn't\",\n",
       " 'needn',\n",
       " \"needn't\",\n",
       " 'shan',\n",
       " \"shan't\",\n",
       " 'shouldn',\n",
       " \"shouldn't\",\n",
       " 'wasn',\n",
       " \"wasn't\",\n",
       " 'weren',\n",
       " \"weren't\",\n",
       " 'won',\n",
       " \"won't\",\n",
       " 'wouldn',\n",
       " \"wouldn't\",\n",
       " '1embedshare',\n",
       " '2embedshare',\n",
       " '3embedshare',\n",
       " '4embedshare',\n",
       " '5embedshare']"
      ]
     },
     "execution_count": 3,
     "metadata": {},
     "output_type": "execute_result"
    }
   ],
   "source": [
    "# Creating a list of stop words, creating a lemmatizer\n",
    "\n",
    "sw = stopwords.words('english')\n",
    "new_words = ['1embedshare','2embedshare','3embedshare','4embedshare','5embedshare']\n",
    "sw.extend(new_words)\n",
    "wn = WordNetLemmatizer()\n",
    "sw"
   ]
  },
  {
   "cell_type": "code",
   "execution_count": 4,
   "id": "35a91db1",
   "metadata": {},
   "outputs": [],
   "source": [
    "# Vectorizing lyrics data\n",
    "\n",
    "cv = CountVectorizer(stop_words=sw, min_df=50)\n",
    "X_cv = cv.fit_transform(Combined_Lyrics['Lyrics'])"
   ]
  },
  {
   "cell_type": "code",
   "execution_count": 5,
   "id": "a3a847b5",
   "metadata": {},
   "outputs": [],
   "source": [
    "# Converting the vectorized lyrics object to a dataframe\n",
    "Vectorized_df = pd.DataFrame(X_cv.toarray(), columns = cv.get_feature_names_out())\n",
    "# Appending on Artist and Genre\n",
    "Vectorized_df = pd.concat([Vectorized_df, Combined_Lyrics[['Artist','Genre']]], axis = 1)\n",
    "# Reordering the columns\n",
    "cols_to_move = ['Artist', 'Genre']\n",
    "Vectorized_df = Vectorized_df[ cols_to_move + [ col for col in Vectorized_df.columns if col not in cols_to_move ] ]"
   ]
  },
  {
   "cell_type": "code",
   "execution_count": 6,
   "id": "1d48ea7e",
   "metadata": {},
   "outputs": [],
   "source": [
    "# Tfid Vectorzing lyrics data\n",
    "\n",
    "tf = TfidfVectorizer(max_df = 0.95, min_df = 50)\n",
    "X_tf = tf.fit_transform(Combined_Lyrics['Lyrics'])"
   ]
  },
  {
   "cell_type": "code",
   "execution_count": 7,
   "id": "0aa85353",
   "metadata": {},
   "outputs": [],
   "source": [
    "# Converting tfid lyrics to object to a dataframe\n",
    "Tfid_df = pd.DataFrame(X_tf.toarray(), columns=tf.get_feature_names_out())\n",
    "Tfid_df = pd.concat([Tfid_df, Combined_Lyrics[['Artist','Genre']]], axis = 1)\n",
    "# Reordering the columns\n",
    "cols_to_move = ['Artist', 'Genre']\n",
    "Tfid_df = Tfid_df[ cols_to_move + [ col for col in Tfid_df.columns if col not in cols_to_move ] ]"
   ]
  },
  {
   "cell_type": "code",
   "execution_count": 8,
   "id": "032cfd22",
   "metadata": {},
   "outputs": [],
   "source": [
    "# Tfid_df"
   ]
  },
  {
   "cell_type": "code",
   "execution_count": 9,
   "id": "bed1396f",
   "metadata": {},
   "outputs": [],
   "source": [
    "text = Tfid_df.drop(columns = 'Artist')\n",
    "X = text.drop(columns = 'Genre')\n",
    "y = text['Genre']"
   ]
  },
  {
   "cell_type": "code",
   "execution_count": 10,
   "id": "6e27b3ed",
   "metadata": {},
   "outputs": [],
   "source": [
    "X_train, X_test, y_train, y_test = train_test_split(X, y, stratify=y, random_state=71221, test_size=.4)"
   ]
  },
  {
   "cell_type": "code",
   "execution_count": 11,
   "id": "791d1b41",
   "metadata": {},
   "outputs": [],
   "source": [
    "# scaler = preprocessing.StandardScaler().fit(X_train)\n",
    "# X_scaled = scaler.transform(X_train)"
   ]
  },
  {
   "cell_type": "code",
   "execution_count": 12,
   "id": "9c5f5b5b",
   "metadata": {},
   "outputs": [],
   "source": [
    "# Import Packages\n",
    "from sklearn.svm import SVC \n",
    "from sklearn.naive_bayes import GaussianNB\n",
    "from sklearn.tree import DecisionTreeClassifier\n",
    "from sklearn.linear_model import LogisticRegression\n",
    "from sklearn.neural_network import MLPClassifier\n",
    "from sklearn.ensemble import RandomForestClassifier\n",
    "from sklearn.ensemble import VotingClassifier\n",
    "from sklearn.ensemble import BaggingClassifier\n",
    "from sklearn.ensemble import AdaBoostClassifier\n",
    "from sklearn.ensemble import StackingClassifier\n",
    "from sklearn.ensemble import RandomForestClassifier\n",
    "from sklearn.naive_bayes import MultinomialNB\n",
    "from sklearn.metrics import confusion_matrix, roc_auc_score, roc_curve, f1_score\n",
    "from sklearn import metrics\n",
    "from sklearn.linear_model import LogisticRegression\n",
    "from sklearn.pipeline import Pipeline, FeatureUnion\n",
    "from sklearn.tree import DecisionTreeClassifier\n",
    "from sklearn.preprocessing import OneHotEncoder, MinMaxScaler\n",
    "from sklearn.impute import SimpleImputer\n",
    "from sklearn.compose import ColumnTransformer\n",
    "from sklearn import tree\n",
    "from sklearn.model_selection import cross_val_score\n",
    "from sklearn.ensemble import GradientBoostingClassifier\n",
    "from matplotlib.pyplot import figure\n",
    "\n",
    "from sklearn.neighbors import KNeighborsClassifier"
   ]
  },
  {
   "cell_type": "code",
   "execution_count": null,
   "id": "76181c73",
   "metadata": {},
   "outputs": [],
   "source": []
  },
  {
   "cell_type": "code",
   "execution_count": null,
   "id": "ae46985e",
   "metadata": {},
   "outputs": [],
   "source": []
  },
  {
   "cell_type": "code",
   "execution_count": null,
   "id": "43a959df",
   "metadata": {},
   "outputs": [],
   "source": []
  },
  {
   "cell_type": "code",
   "execution_count": null,
   "id": "80d6ff45",
   "metadata": {},
   "outputs": [],
   "source": []
  },
  {
   "cell_type": "code",
   "execution_count": null,
   "id": "43c7a2d4",
   "metadata": {},
   "outputs": [],
   "source": []
  },
  {
   "cell_type": "code",
   "execution_count": null,
   "id": "ec411b35",
   "metadata": {},
   "outputs": [],
   "source": []
  },
  {
   "cell_type": "code",
   "execution_count": null,
   "id": "7c993ab5",
   "metadata": {},
   "outputs": [],
   "source": []
  },
  {
   "cell_type": "code",
   "execution_count": null,
   "id": "600e85f3",
   "metadata": {},
   "outputs": [],
   "source": []
  },
  {
   "cell_type": "code",
   "execution_count": null,
   "id": "082e544e",
   "metadata": {
    "scrolled": true
   },
   "outputs": [],
   "source": []
  },
  {
   "cell_type": "code",
   "execution_count": null,
   "id": "22484a5c",
   "metadata": {},
   "outputs": [],
   "source": []
  },
  {
   "cell_type": "code",
   "execution_count": null,
   "id": "76fdf671",
   "metadata": {},
   "outputs": [],
   "source": []
  },
  {
   "cell_type": "markdown",
   "id": "d30558fc",
   "metadata": {},
   "source": [
    "### Model Evaluation \n",
    "###### (Lots of code taken from Dr. Giraud-Carrier)"
   ]
  },
  {
   "cell_type": "code",
   "execution_count": 13,
   "id": "e38950c0",
   "metadata": {},
   "outputs": [],
   "source": [
    "model_names = []\n",
    "accuracy_scores = []"
   ]
  },
  {
   "cell_type": "markdown",
   "id": "b3a992f5",
   "metadata": {},
   "source": [
    "# KNN"
   ]
  },
  {
   "cell_type": "code",
   "execution_count": 14,
   "id": "cf2c6d20",
   "metadata": {},
   "outputs": [],
   "source": [
    "# Creating and fitting model, appending acuracy score to list\n",
    "\n",
    "knn = KNeighborsClassifier()\n",
    "knn.fit(X_train, y_train)\n",
    "accuracy_scores.append(knn.score(X_test, y_test))\n",
    "model_names.append(\"KNN\")"
   ]
  },
  {
   "cell_type": "markdown",
   "id": "b7c9d6e3",
   "metadata": {},
   "source": [
    "# SVM"
   ]
  },
  {
   "cell_type": "code",
   "execution_count": 15,
   "id": "be7bd3c2",
   "metadata": {},
   "outputs": [],
   "source": [
    "# Creating and fitting model, appending acuracy score to list\n",
    "\n",
    "svclassifier = SVC()  # can try 'linear' for the kernel\n",
    "svclassifier.fit(X_train, y_train)  \n",
    "accuracy_scores.append(svclassifier.score(X_test, y_test))\n",
    "model_names.append(\"SVC\")"
   ]
  },
  {
   "cell_type": "markdown",
   "id": "9cf4fc59",
   "metadata": {},
   "source": [
    "# NAIVE BAYES"
   ]
  },
  {
   "cell_type": "code",
   "execution_count": 16,
   "id": "ee7f4fe6",
   "metadata": {},
   "outputs": [],
   "source": [
    "# Creating and fitting model, appending acuracy score to list\n",
    "\n",
    "naive_bayes = GaussianNB()\n",
    "naive_bayes.fit(X_train, y_train)\n",
    "accuracy_scores.append(naive_bayes.score(X_test, y_test))\n",
    "model_names.append(\"NaiveBayes\")"
   ]
  },
  {
   "cell_type": "markdown",
   "id": "291c7f31",
   "metadata": {},
   "source": [
    "# DECISION TREE"
   ]
  },
  {
   "cell_type": "code",
   "execution_count": 17,
   "id": "9b5b043b",
   "metadata": {},
   "outputs": [],
   "source": [
    "# Creating and fitting model, appending acuracy score to list\n",
    "\n",
    "decision_tree = DecisionTreeClassifier() \n",
    "decision_tree.fit(X_train, y_train)\n",
    "accuracy_scores.append(decision_tree.score(X_test, y_test))\n",
    "model_names.append(\"DecTree\")"
   ]
  },
  {
   "cell_type": "markdown",
   "id": "ccddd222",
   "metadata": {},
   "source": [
    "# LOGISTIC REGRESSION"
   ]
  },
  {
   "cell_type": "code",
   "execution_count": 18,
   "id": "899ee304",
   "metadata": {},
   "outputs": [],
   "source": [
    "# # Creating and fitting model, appending acuracy score to list\n",
    "\n",
    "# logistic_regression = LogisticRegression() \n",
    "# logistic_regression.fit(X_scaled, y_train)\n",
    "# accuracy_scores.append(logistic_regression.score(X_test, y_test))\n",
    "# model_names.append(\"LogReg\")"
   ]
  },
  {
   "cell_type": "markdown",
   "id": "157a7141",
   "metadata": {},
   "source": [
    "# MLP"
   ]
  },
  {
   "cell_type": "code",
   "execution_count": 19,
   "id": "b9ed5dca",
   "metadata": {},
   "outputs": [],
   "source": [
    "# Creating and fitting model, appending acuracy score to list\n",
    "\n",
    "mlp = MLPClassifier(hidden_layer_sizes=(8,32,32), \n",
    "                    max_iter=10000, \n",
    "                    activation='tanh', \n",
    "                    verbose=False)\n",
    "mlp.fit(X_train,y_train)\n",
    "accuracy_scores.append(mlp.score(X_test, y_test))\n",
    "model_names.append(\"MLP\")"
   ]
  },
  {
   "cell_type": "markdown",
   "id": "92cf40c2",
   "metadata": {},
   "source": [
    "# ENSEMBLE METHODS"
   ]
  },
  {
   "cell_type": "markdown",
   "id": "93de02ac",
   "metadata": {},
   "source": [
    "## RANDOM FOREST "
   ]
  },
  {
   "cell_type": "code",
   "execution_count": 20,
   "id": "20ee01cf",
   "metadata": {},
   "outputs": [],
   "source": [
    "# Creating and fitting model, appending acuracy score to list\n",
    "\n",
    "rf = RandomForestClassifier() \n",
    "rf.fit(X_train, y_train)\n",
    "accuracy_scores.append(rf.score(X_test, y_test))\n",
    "model_names.append(\"RandForest\")"
   ]
  },
  {
   "cell_type": "markdown",
   "id": "1b20f87e",
   "metadata": {},
   "source": [
    "## VOTING"
   ]
  },
  {
   "cell_type": "code",
   "execution_count": 22,
   "id": "54c98901",
   "metadata": {},
   "outputs": [],
   "source": [
    "# Creating and fitting model, appending acuracy score to list\n",
    "\n",
    "vc = VotingClassifier(estimators=[('dt', decision_tree), ('knn', knn), ('svc', svclassifier), ('naive_bayes', naive_bayes), ('mlp', mlp)], voting='hard')\n",
    "# ('lr', logistic_regression), \n",
    "vc.fit(X_train, y_train)\n",
    "accuracy_scores.append(vc.score(X_test, y_test))\n",
    "model_names.append(\"Voting\")"
   ]
  },
  {
   "cell_type": "markdown",
   "id": "a39d5fb4",
   "metadata": {},
   "source": [
    "## BAGGING DECISION TREE"
   ]
  },
  {
   "cell_type": "code",
   "execution_count": 23,
   "id": "629e51e0",
   "metadata": {},
   "outputs": [],
   "source": [
    "# Creating and fitting model, appending acuracy score to list\n",
    "\n",
    "clf = BaggingClassifier(base_estimator = decision_tree, n_estimators=500)\n",
    "clf.fit(X_train, y_train)\n",
    "accuracy_scores.append(clf.score(X_test, y_test))\n",
    "model_names.append(\"Bagging\")"
   ]
  },
  {
   "cell_type": "code",
   "execution_count": 25,
   "id": "1eb4598c",
   "metadata": {},
   "outputs": [
    {
     "name": "stdout",
     "output_type": "stream",
     "text": [
      "[0.42958039052762775, 0.6402160365600332, 0.52970502700457, 0.493560448691317, 0.5872455338595762, 0.6591192355629414, 0.6262982966348152, 0.6341919401744911]\n",
      "['KNN', 'SVC', 'NaiveBayes', 'DecTree', 'MLP', 'RandForest', 'Voting', 'Bagging']\n"
     ]
    }
   ],
   "source": [
    "print(accuracy_scores)\n",
    "print(model_names)"
   ]
  },
  {
   "cell_type": "markdown",
   "id": "63c9d851",
   "metadata": {},
   "source": [
    "## ADA BOOST DECISION TREE"
   ]
  },
  {
   "cell_type": "code",
   "execution_count": 26,
   "id": "c712374e",
   "metadata": {},
   "outputs": [],
   "source": [
    "# Creating and fitting model, appending acuracy score to list\n",
    "\n",
    "clf = AdaBoostClassifier(base_estimator = decision_tree, n_estimators=500)\n",
    "clf.fit(X_train, y_train)\n",
    "accuracy_scores.append(clf.score(X_test, y_test))\n",
    "model_names.append(\"AdaBoost\")"
   ]
  },
  {
   "cell_type": "markdown",
   "id": "47863ddc",
   "metadata": {},
   "source": [
    "## STACKING"
   ]
  },
  {
   "cell_type": "code",
   "execution_count": 29,
   "id": "9e6c00f9",
   "metadata": {},
   "outputs": [],
   "source": [
    "# Creating and fitting model, appending acuracy score to list\n",
    "\n",
    "clf = StackingClassifier(estimators=[('dt', decision_tree), ('knn', knn), ('svc', svclassifier), ('naive_bayes', naive_bayes), ('mlp', mlp)], final_estimator = DecisionTreeClassifier(), n_jobs = -1, passthrough = False)\n",
    "# ('lr', logistic_regression), \n",
    "clf.fit(X_train, y_train)\n",
    "accuracy_scores.append(clf.score(X_test, y_test))\n",
    "model_names.append(\"Stacking\")"
   ]
  },
  {
   "cell_type": "markdown",
   "id": "022706d9",
   "metadata": {},
   "source": [
    "## GRAPHING RESULTS"
   ]
  },
  {
   "cell_type": "code",
   "execution_count": 30,
   "id": "a0d395db",
   "metadata": {},
   "outputs": [
    {
     "data": {
      "image/png": "[encoded data removed]",
      "text/plain": [
       "<Figure size 1280x720 with 1 Axes>"
      ]
     },
     "metadata": {},
     "output_type": "display_data"
    }
   ],
   "source": [
    "import matplotlib.pyplot as plt\n",
    "from matplotlib.pyplot import figure\n",
    "import numpy as np\n",
    "\n",
    "fig = figure(num=None, figsize=(16, 9), dpi=80, facecolor='w', edgecolor='k')\n",
    "\n",
    "y_pos = np.arange(len(model_names))\n",
    "plt.xticks(range(len(model_names)), model_names, fontsize=14)\n",
    "plt.yticks([0,0.2,0.40,0.60,0.80,1.00], (0,20,40,60,80,100), fontsize=19)\n",
    "colors =['r','b','k','y','m','c']\n",
    "    \n",
    "plt.rcParams['xtick.labelsize'] = 20 \n",
    "barlist = plt.bar(y_pos, accuracy_scores, color=colors, align='center', alpha=0.5)\n",
    "\n",
    "plt.ylabel('Accuracy (%)', size = 24)\n",
    "plt.xlabel(\"Classification Algorithms\", size = 23)\n",
    "plt.suptitle('Accuracy of Different Classification Algorithms and Ensembles', size = 27)\n",
    "A = range(len(accuracy_scores))\n",
    "for xy in zip(A, accuracy_scores):                                     \n",
    "    plt.annotate('%0.2f' % xy[1], xy = xy, textcoords='data') \n",
    "         \n",
    "plt.show()"
   ]
  },
  {
   "cell_type": "code",
   "execution_count": 31,
   "id": "51679ab7",
   "metadata": {},
   "outputs": [
    {
     "name": "stdout",
     "output_type": "stream",
     "text": [
      "0.6591192355629414\n"
     ]
    }
   ],
   "source": [
    "print(rf.score(X_test, y_test))"
   ]
  },
  {
   "cell_type": "markdown",
   "id": "26c2385d",
   "metadata": {},
   "source": [
    "#### Random Forest seems to be the most accurate"
   ]
  },
  {
   "cell_type": "markdown",
   "id": "b857d317",
   "metadata": {},
   "source": [
    "### Attempt to bag and boost random forests to increase accuracy"
   ]
  },
  {
   "cell_type": "markdown",
   "id": "c1f4de63",
   "metadata": {},
   "source": [
    "##### Bagging"
   ]
  },
  {
   "cell_type": "code",
   "execution_count": 33,
   "id": "7d0d648f",
   "metadata": {},
   "outputs": [
    {
     "name": "stdout",
     "output_type": "stream",
     "text": [
      "Wall time: 13min 13s\n"
     ]
    },
    {
     "data": {
      "text/plain": [
       "0.6622351474864977"
      ]
     },
     "execution_count": 33,
     "metadata": {},
     "output_type": "execute_result"
    }
   ],
   "source": [
    "%%time\n",
    "clf = BaggingClassifier(base_estimator = rf, n_estimators=100)\n",
    "clf.fit(X_train, y_train)"
   ]
  },
  {
   "cell_type": "code",
   "execution_count": 34,
   "id": "ba2f46df",
   "metadata": {},
   "outputs": [
    {
     "data": {
      "text/plain": [
       "0.6622351474864977"
      ]
     },
     "execution_count": 34,
     "metadata": {},
     "output_type": "execute_result"
    }
   ],
   "source": [
    "clf.score(X_test, y_test)"
   ]
  },
  {
   "cell_type": "markdown",
   "id": "2d26c2e1",
   "metadata": {},
   "source": [
    "##### Boosting"
   ]
  },
  {
   "cell_type": "code",
   "execution_count": 35,
   "id": "397f64e3",
   "metadata": {},
   "outputs": [
    {
     "name": "stdout",
     "output_type": "stream",
     "text": [
      "Wall time: 1h 9min 55s\n"
     ]
    },
    {
     "data": {
      "text/plain": [
       "AdaBoostClassifier(base_estimator=RandomForestClassifier(), n_estimators=100)"
      ]
     },
     "execution_count": 35,
     "metadata": {},
     "output_type": "execute_result"
    }
   ],
   "source": [
    "%%time\n",
    "clf = AdaBoostClassifier(base_estimator = rf, n_estimators=100)\n",
    "clf.fit(X_train, y_train)"
   ]
  },
  {
   "cell_type": "code",
   "execution_count": 36,
   "id": "d1281ce6",
   "metadata": {},
   "outputs": [
    {
     "data": {
      "text/plain": [
       "0.6321146655587869"
      ]
     },
     "execution_count": 36,
     "metadata": {},
     "output_type": "execute_result"
    }
   ],
   "source": [
    "clf.score(X_test, y_test)"
   ]
  },
  {
   "cell_type": "markdown",
   "id": "8f15732a",
   "metadata": {},
   "source": [
    "#### We can see that bagging and boosting had only a marginal effect on the accuracy of the model - for sake of brevity I excluded the code for this, but I aslo searched for optimal parameters for the random forest, but the default model performed the best. Because the Adaboost model performed slightly better accuracy-wise, I took that model as our final classifier. "
   ]
  },
  {
   "cell_type": "markdown",
   "id": "6f3d250b",
   "metadata": {},
   "source": [
    "### Get predictions"
   ]
  },
  {
   "cell_type": "code",
   "execution_count": 33,
   "id": "58ba58b7",
   "metadata": {},
   "outputs": [],
   "source": [
    "# read in the new fires file\n",
    "new_fires = pd.read_csv(\"UT2016-2018.csv\")\n",
    "\n",
    "# keep only the columns that would be available at the beginning of the fire\n",
    "new_fires = new_fires[[\"FOD_ID\", \"FIRE_YEAR\", \"DISCOVERY_DOY\", \"DISCOVERY_TIME\", \n",
    "               \"LATITUDE\", \"LONGITUDE\", \"FIPS_NAME\"]]\n",
    "\n",
    "# if there is NaN for county, replace with \"Unknown\"\n",
    "county = new_fires['FIPS_NAME'].copy()\n",
    "county[new_fires['FIPS_NAME'].isnull()] = 'Unknown'\n",
    "new_fires['FIPS_NAME'] = (county)\n",
    "new_fires.FIPS_NAME.isna().values.any()\n",
    "\n",
    "# get dummies for county\n",
    "cat2 = pd.get_dummies(new_fires.FIPS_NAME)\n",
    "new_fires = new_fires.join(cat2)\n",
    "new_fires.drop('FIPS_NAME', axis=1, inplace=True)\n",
    "\n",
    "\n",
    "new_fires.dropna(inplace=True)"
   ]
  },
  {
   "cell_type": "code",
   "execution_count": 34,
   "id": "5cf472ed",
   "metadata": {},
   "outputs": [],
   "source": [
    "# predicted values \n",
    "\n",
    "preds = clf.predict(new_fires)\n",
    "probs = clf.predict_proba(new_fires)[:,1]\n",
    "\n",
    "# final = pd.concat(preds, probs)\n",
    "final = pd.DataFrame({'FOD_ID': new_fires.FOD_ID, 'Prediction': preds, 'PProb': probs}, columns=['FOD_ID', 'Prediction', 'PProb'])\n",
    "# dataset = pd.DataFrame({'label': label, 'images': list(images)}, columns=['label', 'images'])"
   ]
  },
  {
   "cell_type": "code",
   "execution_count": 35,
   "id": "b797c75d",
   "metadata": {},
   "outputs": [],
   "source": [
    "# # write to csv\n",
    "# final.to_csv(\"thunder-fire-predictions.csv\")"
   ]
  },
  {
   "cell_type": "code",
   "execution_count": null,
   "id": "c90a79dc",
   "metadata": {},
   "outputs": [],
   "source": []
  }
 ],
 "metadata": {
  "kernelspec": {
   "display_name": "Python 3 (ipykernel)",
   "language": "python",
   "name": "python3"
  },
  "language_info": {
   "codemirror_mode": {
    "name": "ipython",
    "version": 3
   },
   "file_extension": ".py",
   "mimetype": "text/x-python",
   "name": "python",
   "nbconvert_exporter": "python",
   "pygments_lexer": "ipython3",
   "version": "3.7.4"
  }
 },
 "nbformat": 4,
 "nbformat_minor": 5
}
