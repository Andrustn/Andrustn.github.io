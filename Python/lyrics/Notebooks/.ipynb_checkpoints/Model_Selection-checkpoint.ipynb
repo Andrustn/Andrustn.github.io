{
 "cells": [
  {
   "cell_type": "code",
   "execution_count": 1,
   "id": "c6f7f09e",
   "metadata": {},
   "outputs": [],
   "source": [
    "import pandas as pd\n",
    "import numpy as np\n",
    "import re\n",
    "import matplotlib.pyplot as plt\n",
    "import matplotlib.ticker as mticker\n",
    "import seaborn as sns\n",
    "from nltk import wordpunct_tokenize, word_tokenize, sent_tokenize\n",
    "from nltk.corpus import stopwords\n",
    "from nltk.stem import PorterStemmer\n",
    "from nltk.stem import WordNetLemmatizer\n",
    "from sklearn.feature_extraction.text import CountVectorizer\n",
    "from sklearn.feature_extraction.text import TfidfVectorizer\n",
    "from sklearn.preprocessing import OneHotEncoder, MinMaxScaler\n",
    "from sklearn.ensemble import BaggingClassifier, RandomForestClassifier\n",
    "from sklearn.model_selection import cross_val_score, train_test_split\n",
    "from sklearn.tree import DecisionTreeClassifier\n",
    "from sklearn import metrics\n",
    "from sklearn.pipeline import Pipeline, FeatureUnion\n",
    "from sklearn.impute import SimpleImputer\n",
    "from sklearn.compose import ColumnTransformer\n",
    "from sklearn.feature_extraction.text import CountVectorizer\n",
    "from sklearn.naive_bayes import MultinomialNB, GaussianNB\n",
    "from sklearn.neighbors import KNeighborsClassifier\n",
    "from sklearn.linear_model import LogisticRegression\n",
    "from sklearn.metrics import confusion_matrix, roc_auc_score, roc_curve\n",
    "from sklearn import metrics\n",
    "from sklearn.linear_model import LogisticRegression\n",
    "from sklearn.ensemble import RandomForestClassifier\n",
    "from sklearn.ensemble import GradientBoostingClassifier\n",
    "from sklearn.svm import SVC \n",
    "from sklearn.naive_bayes import GaussianNB\n",
    "from sklearn.tree import DecisionTreeClassifier\n",
    "from sklearn.linear_model import LogisticRegression\n",
    "from sklearn.neural_network import MLPClassifier\n",
    "from sklearn.ensemble import RandomForestClassifier\n",
    "from sklearn.ensemble import VotingClassifier\n",
    "from sklearn.ensemble import BaggingClassifier\n",
    "from sklearn.ensemble import AdaBoostClassifier\n",
    "from sklearn.ensemble import StackingClassifier\n",
    "from sklearn.ensemble import RandomForestClassifier\n",
    "from sklearn.cluster import KMeans\n",
    "from sklearn.cluster import MiniBatchKMeans\n",
    "from sklearn.decomposition import PCA"
   ]
  },
  {
   "cell_type": "code",
   "execution_count": 19,
   "id": "777db907-89db-4869-9a68-1f266c2f02a6",
   "metadata": {},
   "outputs": [],
   "source": [
    "#cat  ../CSV\\ files/Combined_Lyrics.csv"
   ]
  },
  {
   "cell_type": "code",
   "execution_count": 13,
   "id": "f84714a0-ccc0-43fa-9a44-44029a9eaaf5",
   "metadata": {},
   "outputs": [
    {
     "name": "stdout",
     "output_type": "stream",
     "text": [
      "Combined_Lyrics.csv  Pop.csv              RnB.csv\n",
      "Country.csv          Rap.csv              Rock.csv\n"
     ]
    }
   ],
   "source": [
    " ../CSV\\ files/"
   ]
  },
  {
   "cell_type": "code",
   "execution_count": 22,
   "id": "26d63a4e",
   "metadata": {},
   "outputs": [],
   "source": [
    "# Reading in the data\n",
    "\n",
    "Combined_Lyrics = pd.read_csv(\"../CSV files/Combined_Lyrics.csv\")"
   ]
  },
  {
   "cell_type": "code",
   "execution_count": 23,
   "id": "0ce1a53c",
   "metadata": {},
   "outputs": [],
   "source": [
    "# Creating a list of stop words, creating a lemmatizer\n",
    "\n",
    "sw = stopwords.words('english')\n",
    "wn = WordNetLemmatizer()"
   ]
  },
  {
   "cell_type": "code",
   "execution_count": 24,
   "id": "e848409e",
   "metadata": {},
   "outputs": [],
   "source": [
    "# Vectorizing lyrics data\n",
    "\n",
    "cv = CountVectorizer(stop_words=sw, min_df=50)\n",
    "X_cv = cv.fit_transform(Combined_Lyrics['Lyrics'])"
   ]
  },
  {
   "cell_type": "code",
   "execution_count": 25,
   "id": "2d3ef2db",
   "metadata": {},
   "outputs": [],
   "source": [
    "# Converting the vectorized lyrics object to a dataframe\n",
    "Vectorized_df = pd.DataFrame(X_cv.toarray(), columns = cv.get_feature_names())\n",
    "# Appending on Artist and Genre\n",
    "Vectorized_df = pd.concat([Vectorized_df, Combined_Lyrics[['Artist','Genre']]], axis = 1)\n",
    "# Reordering the columns\n",
    "cols_to_move = ['Artist', 'Genre']\n",
    "Vectorized_df = Vectorized_df[ cols_to_move + [ col for col in Vectorized_df.columns if col not in cols_to_move ] ]"
   ]
  },
  {
   "cell_type": "code",
   "execution_count": 26,
   "id": "e075dc2e",
   "metadata": {},
   "outputs": [],
   "source": [
    "# Tfid Vectorzing lyrics data\n",
    "\n",
    "tf = TfidfVectorizer(max_df = 0.95, min_df = 50)\n",
    "X_tf = tf.fit_transform(Combined_Lyrics['Lyrics'])"
   ]
  },
  {
   "cell_type": "code",
   "execution_count": 27,
   "id": "2b162564",
   "metadata": {},
   "outputs": [],
   "source": [
    "# Converting tfid lyrics to object to a dataframe\n",
    "Tfid_df = pd.DataFrame(X_tf.toarray(), columns=tf.get_feature_names())\n",
    "Tfid_df = pd.concat([Tfid_df, Combined_Lyrics[['Artist','Genre']]], axis = 1)\n",
    "# Reordering the columns\n",
    "cols_to_move = ['Artist', 'Genre']\n",
    "Tfid_df = Tfid_df[ cols_to_move + [ col for col in Tfid_df.columns if col not in cols_to_move ] ]"
   ]
  },
  {
   "cell_type": "code",
   "execution_count": 28,
   "id": "1d5af7bb",
   "metadata": {},
   "outputs": [],
   "source": [
    "#split data in to x and y\n",
    "\n",
    "y = Tfid_df['Genre']\n",
    "# text = df['review'].values.astype('U')\n",
    "text = Tfid_df.drop(['Genre','Artist'], axis = 1)"
   ]
  },
  {
   "cell_type": "code",
   "execution_count": 29,
   "id": "324ea2a8",
   "metadata": {},
   "outputs": [],
   "source": [
    "#make train and test\n",
    "text_train, text_test, y_train, y_test = train_test_split(text,y, stratify = y, random_state=117, test_size=.4)"
   ]
  },
  {
   "cell_type": "code",
   "execution_count": 30,
   "id": "e38950c0",
   "metadata": {},
   "outputs": [],
   "source": [
    "model_names = []\n",
    "accuracy_scores = []\n",
    "precision_scores = []\n",
    "recall_scores = []"
   ]
  },
  {
   "cell_type": "markdown",
   "id": "b3a992f5",
   "metadata": {},
   "source": [
    "# KNN"
   ]
  },
  {
   "cell_type": "code",
   "execution_count": 13,
   "id": "cf2c6d20",
   "metadata": {},
   "outputs": [],
   "source": [
    "# Creating and fitting model, appending acuracy score to list\n",
    "\n",
    "knn = KNeighborsClassifier()\n",
    "knn.fit(text_train, y_train)\n",
    "y_hat = knn.predict(text_test)\n",
    "accuracy_scores.append(metrics.accuracy_score(y_test, y_hat))\n",
    "precision_scores.append(metrics.precision_score(y_test, y_hat, average = 'weighted'))\n",
    "recall_scores.append(metrics.recall_score(y_test, y_hat, average = 'weighted'))\n",
    "y_prob = knn.predict_proba(text_test)[:,1]\n",
    "knn_confmatrix = confusion_matrix(y_test, y_hat)\n",
    "knn_report = metrics.classification_report(y_test, y_hat)\n",
    "# knn_auc = roc_auc_score(y_test, y_prob, multi_class = 'ovr')\n",
    "# fpr_knn, tpr_knn, thresh_knn = roc_curve(y_test, y_prob)\n",
    "model_names.append(\"KNN\")"
   ]
  },
  {
   "cell_type": "markdown",
   "id": "b7c9d6e3",
   "metadata": {},
   "source": [
    "# SVM"
   ]
  },
  {
   "cell_type": "code",
   "execution_count": 14,
   "id": "be7bd3c2",
   "metadata": {},
   "outputs": [],
   "source": [
    "# Creating and fitting model, appending acuracy score to list\n",
    "\n",
    "svclassifier = SVC()  # can try 'linear' for the kernel\n",
    "svclassifier.fit(text_train, y_train)  \n",
    "y_hat = svclassifier.predict(text_test)\n",
    "accuracy_scores.append(metrics.accuracy_score(y_test, y_hat))\n",
    "precision_scores.append(metrics.precision_score(y_test, y_hat, average = 'weighted'))\n",
    "recall_scores.append(metrics.recall_score(y_test, y_hat, average = 'weighted'))\n",
    "# y_prob = svclassifier.predict_proba(text_test)[:,1]\n",
    "svclassifier_confmatrix = confusion_matrix(y_test, y_hat)\n",
    "svclassifier_report = metrics.classification_report(y_test, y_hat)\n",
    "# svclassifier_auc = roc_auc_score(y_test, y_prob)\n",
    "# fpr_svclassifier, tpr_svclassifier, thresh_svclassifier = roc_curve(y_test, y_prob)\n",
    "model_names.append(\"SVC\")"
   ]
  },
  {
   "cell_type": "markdown",
   "id": "9cf4fc59",
   "metadata": {},
   "source": [
    "# NAIVE BAYES"
   ]
  },
  {
   "cell_type": "code",
   "execution_count": 15,
   "id": "ee7f4fe6",
   "metadata": {},
   "outputs": [],
   "source": [
    "# Creating and fitting model, appending acuracy score to list\n",
    "\n",
    "naive_bayes = GaussianNB()\n",
    "naive_bayes.fit(text_train, y_train)\n",
    "y_hat = naive_bayes.predict(text_test)\n",
    "accuracy_scores.append(metrics.accuracy_score(y_test, y_hat))\n",
    "precision_scores.append(metrics.precision_score(y_test, y_hat, average = 'weighted'))\n",
    "recall_scores.append(metrics.recall_score(y_test, y_hat, average = 'weighted'))\n",
    "y_prob = naive_bayes.predict_proba(text_test)[:,1]\n",
    "naive_bayes_confmatrix = confusion_matrix(y_test, y_hat)\n",
    "naive_bayes_report = metrics.classification_report(y_test, y_hat)\n",
    "# decision_tree_auc = roc_auc_score(y_test, y_prob)\n",
    "# fpr_decision_tree, tpr_decision_tree, thresh_decision_tree = roc_curve(y_test, y_prob)\n",
    "model_names.append(\"NaiveBayes\")"
   ]
  },
  {
   "cell_type": "markdown",
   "id": "291c7f31",
   "metadata": {},
   "source": [
    "# DECISION TREE"
   ]
  },
  {
   "cell_type": "code",
   "execution_count": 16,
   "id": "9b5b043b",
   "metadata": {},
   "outputs": [],
   "source": [
    "# Creating and fitting model, appending acuracy score to list\n",
    "\n",
    "decision_tree = DecisionTreeClassifier() \n",
    "decision_tree.fit(text_train, y_train)\n",
    "y_hat = decision_tree.predict(text_test)\n",
    "accuracy_scores.append(metrics.accuracy_score(y_test, y_hat))\n",
    "precision_scores.append(metrics.precision_score(y_test, y_hat, average = 'weighted'))\n",
    "recall_scores.append(metrics.recall_score(y_test, y_hat, average = 'weighted'))\n",
    "# y_prob = decision_tree.predict_proba(text_test)[:,1]\n",
    "decision_tree_confmatrix = confusion_matrix(y_test, y_hat)\n",
    "decision_tree_report = metrics.classification_report(y_test, y_hat)\n",
    "# decision_tree_auc = roc_auc_score(y_test, y_prob)\n",
    "# fpr_decision_tree, tpr_decision_tree, thresh_decision_tree = roc_curve(y_test, y_prob)\n",
    "model_names.append(\"DecTree\")"
   ]
  },
  {
   "cell_type": "markdown",
   "id": "ccddd222",
   "metadata": {},
   "source": [
    "# LOGISTIC REGRESSION"
   ]
  },
  {
   "cell_type": "code",
   "execution_count": 17,
   "id": "899ee304",
   "metadata": {},
   "outputs": [],
   "source": [
    "# Creating and fitting model, appending acuracy score to list\n",
    "\n",
    "logistic_regression = LogisticRegression(max_iter = 1000) \n",
    "logistic_regression.fit(text_train, y_train)\n",
    "y_hat = logistic_regression.predict(text_test)\n",
    "accuracy_scores.append(metrics.accuracy_score(y_test, y_hat))\n",
    "precision_scores.append(metrics.precision_score(y_test, y_hat, average = 'weighted'))\n",
    "recall_scores.append(metrics.recall_score(y_test, y_hat, average = 'weighted'))\n",
    "# y_prob = logistic_regression.predict_proba(text_test)[:,1]\n",
    "logistic_regression_confmatrix = confusion_matrix(y_test, y_hat)\n",
    "logistic_regression_report = metrics.classification_report(y_test, y_hat)\n",
    "# logistic_regression_auc = roc_auc_score(y_test, y_prob)\n",
    "# fpr_logistic_regression, tpr_logistic_regression, thresh_logistic_regression = roc_curve(y_test, y_prob)\n",
    "model_names.append(\"LogReg\")"
   ]
  },
  {
   "cell_type": "markdown",
   "id": "157a7141",
   "metadata": {},
   "source": [
    "# MLP"
   ]
  },
  {
   "cell_type": "code",
   "execution_count": 18,
   "id": "b9ed5dca",
   "metadata": {},
   "outputs": [],
   "source": [
    "# Creating and fitting model, appending acuracy score to list\n",
    "\n",
    "mlp = MLPClassifier(hidden_layer_sizes=(8,32,32), \n",
    "                    max_iter=10000, \n",
    "                    activation='tanh', \n",
    "                    verbose=False)\n",
    "mlp.fit(text_train,y_train)\n",
    "y_hat = mlp.predict(text_test)\n",
    "accuracy_scores.append(metrics.accuracy_score(y_test, y_hat))\n",
    "precision_scores.append(metrics.precision_score(y_test, y_hat, average = 'weighted'))\n",
    "recall_scores.append(metrics.recall_score(y_test, y_hat, average = 'weighted'))\n",
    "# y_prob = mlp.predict_proba(text_test)[:,1]\n",
    "mlp_confmatrix = confusion_matrix(y_test, y_hat)\n",
    "mlp_report = metrics.classification_report(y_test, y_hat)\n",
    "# mlp_auc = roc_auc_score(y_test, y_prob)\n",
    "# fpr_mlp, tpr_mlp, thresh_mlp = roc_curve(y_test, y_prob)\n",
    "model_names.append(\"MLP\")"
   ]
  },
  {
   "cell_type": "markdown",
   "id": "92cf40c2",
   "metadata": {},
   "source": [
    "# ENSEMBLE METHODS"
   ]
  },
  {
   "cell_type": "markdown",
   "id": "93de02ac",
   "metadata": {},
   "source": [
    "## RANDOM FOREST "
   ]
  },
  {
   "cell_type": "code",
   "execution_count": 31,
   "id": "20ee01cf",
   "metadata": {},
   "outputs": [],
   "source": [
    "# Creating and fitting model, appending acuracy score to list\n",
    "\n",
    "rf = RandomForestClassifier() \n",
    "rf.fit(text_train, y_train)\n",
    "y_hat = rf.predict(text_test)\n",
    "accuracy_scores.append(metrics.accuracy_score(y_test, y_hat))\n",
    "precision_scores.append(metrics.precision_score(y_test, y_hat, average = 'weighted'))\n",
    "recall_scores.append(metrics.recall_score(y_test, y_hat, average = 'weighted'))\n",
    "# y_prob = rf.predict_proba(text_test)[:,1]\n",
    "rf_confmatrix = confusion_matrix(y_test, y_hat)\n",
    "rf_report = metrics.classification_report(y_test, y_hat)\n",
    "# rf_auc = roc_auc_score(y_test, y_prob)\n",
    "# fpr_rf, tpr_rf, thresh_rf = roc_curve(y_test, y_prob)\n",
    "model_names.append(\"RandForest\")"
   ]
  },
  {
   "cell_type": "code",
   "execution_count": 46,
   "id": "a8620780-44b5-4c8e-8c29-39e238cdd257",
   "metadata": {},
   "outputs": [
    {
     "name": "stdout",
     "output_type": "stream",
     "text": [
      "Genre specific accuracy:  [0.63739669 0.04423077 0.94811321 0.50575916 0.80320366]\n"
     ]
    }
   ],
   "source": [
    "print(\"Genre specific accuracy: \", rf_confmatrix.diagonal() / rf_confmatrix.sum(axis=1))"
   ]
  },
  {
   "cell_type": "code",
   "execution_count": 44,
   "id": "394bba31-54db-48b1-b8e6-d0b3560182ec",
   "metadata": {},
   "outputs": [
    {
     "name": "stdout",
     "output_type": "stream",
     "text": [
      "Total Accuracy:  0.661\n"
     ]
    }
   ],
   "source": [
    "print(\"Total Accuracy: \", round(metrics.accuracy_score(y_test, y_hat), 3))"
   ]
  },
  {
   "cell_type": "markdown",
   "id": "1b20f87e",
   "metadata": {},
   "source": [
    "## VOTING"
   ]
  },
  {
   "cell_type": "code",
   "execution_count": 20,
   "id": "54c98901",
   "metadata": {},
   "outputs": [],
   "source": [
    "# Creating and fitting model, appending acuracy score to list\n",
    "\n",
    "vc = VotingClassifier(estimators=[('dt', decision_tree), ('lr', logistic_regression), ('knn', knn), ('svc', svclassifier), ('naive_bayes', naive_bayes), ('mlp', mlp)], voting='hard')\n",
    "vc.fit(text_train, y_train)\n",
    "y_hat = vc.predict(text_test)\n",
    "accuracy_scores.append(metrics.accuracy_score(y_test, y_hat))\n",
    "precision_scores.append(metrics.precision_score(y_test, y_hat, average = 'weighted'))\n",
    "recall_scores.append(metrics.recall_score(y_test, y_hat, average = 'weighted'))\n",
    "# y_prob = vc.predict_proba(text_test)[:,1]\n",
    "vc_confmatrix = confusion_matrix(y_test, y_hat)\n",
    "vc_report = metrics.classification_report(y_test, y_hat)\n",
    "# vc_auc = roc_auc_score(y_test, y_prob)\n",
    "# fpr_vc, tpr_vc, thresh_vc = roc_curve(y_test, y_prob)\n",
    "model_names.append(\"Voting\")"
   ]
  },
  {
   "cell_type": "markdown",
   "id": "a39d5fb4",
   "metadata": {},
   "source": [
    "## BAGGING DECISION TREE"
   ]
  },
  {
   "cell_type": "code",
   "execution_count": 21,
   "id": "629e51e0",
   "metadata": {},
   "outputs": [],
   "source": [
    "# Creating and fitting model, appending acuracy score to list\n",
    "\n",
    "clf = BaggingClassifier(base_estimator = decision_tree, n_estimators=500)\n",
    "clf.fit(text_train, y_train)\n",
    "y_hat = clf.predict(text_test)\n",
    "accuracy_scores.append(metrics.accuracy_score(y_test, y_hat))\n",
    "precision_scores.append(metrics.precision_score(y_test, y_hat, average = 'weighted'))\n",
    "recall_scores.append(metrics.recall_score(y_test, y_hat, average = 'weighted'))\n",
    "# y_prob = clf.predict_proba(text_test)[:,1]\n",
    "clf_confmatrix = confusion_matrix(y_test, y_hat)\n",
    "clf_report = metrics.classification_report(y_test, y_hat)\n",
    "# clf_auc = roc_auc_score(y_test, y_prob)\n",
    "# fpr_clf, tpr_clf, thresh_clf = roc_curve(y_test, y_prob)\n",
    "model_names.append(\"Bagging\")"
   ]
  },
  {
   "cell_type": "markdown",
   "id": "63c9d851",
   "metadata": {},
   "source": [
    "## ADA BOOST DECISION TREE"
   ]
  },
  {
   "cell_type": "code",
   "execution_count": 23,
   "id": "c712374e",
   "metadata": {},
   "outputs": [],
   "source": [
    "# Creating and fitting model, appending acuracy score to list\n",
    "\n",
    "ada = AdaBoostClassifier(base_estimator = decision_tree, n_estimators=500)\n",
    "ada.fit(text_train, y_train)\n",
    "y_hat = ada.predict(text_test)\n",
    "accuracy_scores.append(metrics.accuracy_score(y_test, y_hat))\n",
    "precision_scores.append(metrics.precision_score(y_test, y_hat, average = 'weighted'))\n",
    "recall_scores.append(metrics.recall_score(y_test, y_hat, average = 'weighted'))\n",
    "# y_prob = ada.predict_proba(text_test)[:,1]\n",
    "ada_confmatrix = confusion_matrix(y_test, y_hat)\n",
    "ada_report = metrics.classification_report(y_test, y_hat)\n",
    "# ada_auc = roc_auc_score(y_test, y_prob)\n",
    "# fpr_ada, tpr_ada, thresh_ada = roc_curve(y_test, y_prob)\n",
    "model_names.append(\"AdaBoost\")"
   ]
  },
  {
   "cell_type": "markdown",
   "id": "e9ec6416",
   "metadata": {},
   "source": [
    "# GRADIENT BOOST DECISION TREE"
   ]
  },
  {
   "cell_type": "code",
   "execution_count": 24,
   "id": "aa950627",
   "metadata": {},
   "outputs": [],
   "source": [
    "gb = GradientBoostingClassifier()\n",
    "gb.fit(text_train, y_train)\n",
    "y_hat = gb.predict(text_test)\n",
    "accuracy_scores.append(metrics.accuracy_score(y_test, y_hat))\n",
    "precision_scores.append(metrics.precision_score(y_test, y_hat, average = 'weighted'))\n",
    "recall_scores.append(metrics.recall_score(y_test, y_hat, average = 'weighted'))\n",
    "# y_prob = gb.predict_proba(text_test)[:,1]\n",
    "gb_confmatrix = confusion_matrix(y_test, y_hat)\n",
    "gb_report = metrics.classification_report(y_test, y_hat)\n",
    "# gb_auc = roc_auc_score(y_test, y_prob)\n",
    "# fpr_gb, tpr_gb, thresh_gb = roc_curve(y_test, y_prob)\n",
    "model_names.append(\"GradientBoost\")"
   ]
  },
  {
   "cell_type": "markdown",
   "id": "47863ddc",
   "metadata": {},
   "source": [
    "## STACKING"
   ]
  },
  {
   "cell_type": "code",
   "execution_count": 25,
   "id": "9e6c00f9",
   "metadata": {},
   "outputs": [],
   "source": [
    "# Creating and fitting model, appending acuracy score to list\n",
    "\n",
    "stk = StackingClassifier(estimators=[('dt', decision_tree), ('lr', logistic_regression), ('knn', knn), ('svc', svclassifier), ('naive_bayes', naive_bayes), ('mlp', mlp)], final_estimator = DecisionTreeClassifier(), n_jobs = -1, passthrough = False)\n",
    "stk.fit(text_train, y_train)\n",
    "y_hat = stk.predict(text_test)\n",
    "accuracy_scores.append(metrics.accuracy_score(y_test, y_hat))\n",
    "precision_scores.append(metrics.precision_score(y_test, y_hat, average = 'weighted'))\n",
    "recall_scores.append(metrics.recall_score(y_test, y_hat, average = 'weighted'))\n",
    "# y_prob = stk.predict_proba(text_test)[:,1]\n",
    "stk_confmatrix = confusion_matrix(y_test, y_hat)\n",
    "stk_report = metrics.classification_report(y_test, y_hat)\n",
    "# stk_auc = roc_auc_score(y_test, y_prob)\n",
    "# fpr_stk, tpr_stk, thresh_stk = roc_curve(y_test, y_prob)\n",
    "model_names.append(\"Stacking\")"
   ]
  },
  {
   "cell_type": "markdown",
   "id": "022706d9",
   "metadata": {},
   "source": [
    "## GRAPHING RESULTS"
   ]
  },
  {
   "cell_type": "code",
   "execution_count": null,
   "id": "ed926497",
   "metadata": {},
   "outputs": [],
   "source": [
    "import matplotlib.pyplot as plt\n",
    "from matplotlib.pyplot import figure\n",
    "import numpy as np\n",
    "\n",
    "fig = figure(num=None, figsize=(16, 9), dpi=80, facecolor='w', edgecolor='k')\n",
    "\n",
    "y_pos = np.arange(len(model_names))\n",
    "plt.xticks(range(len(model_names)), model_names, fontsize=14)\n",
    "plt.yticks([0,0.2,0.40,0.60,0.80,1.00], (0,20,40,60,80,100), fontsize=19)\n",
    "colors =['r','b','k','y','m','c','o']\n",
    "    \n",
    "plt.rcParams['xtick.labelsize'] = 20 \n",
    "barlist = plt.bar(y_pos, accuracy_scores, color=colors, align='center', alpha=0.5)\n",
    "\n",
    "plt.ylabel('Accuracy (%)', size = 24)\n",
    "plt.xlabel(\"Classification Algorithms\", size = 23)\n",
    "plt.suptitle('Accuracy of Different Classification Algorithms and Ensembles', size = 27)\n",
    "A = range(len(accuracy_scores))\n",
    "for xy in zip(A, accuracy_scores):                                     \n",
    "    plt.annotate('%0.2f' % xy[1], xy = xy, textcoords='data') \n",
    "         \n",
    "plt.show()"
   ]
  },
  {
   "cell_type": "code",
   "execution_count": 34,
   "id": "6f8e674d",
   "metadata": {},
   "outputs": [
    {
     "data": {
      "text/html": [
       "<div>\n",
       "<style scoped>\n",
       "    .dataframe tbody tr th:only-of-type {\n",
       "        vertical-align: middle;\n",
       "    }\n",
       "\n",
       "    .dataframe tbody tr th {\n",
       "        vertical-align: top;\n",
       "    }\n",
       "\n",
       "    .dataframe thead th {\n",
       "        text-align: right;\n",
       "    }\n",
       "</style>\n",
       "<table border=\"1\" class=\"dataframe\">\n",
       "  <thead>\n",
       "    <tr style=\"text-align: right;\">\n",
       "      <th></th>\n",
       "      <th>model_names</th>\n",
       "      <th>metric</th>\n",
       "      <th>score</th>\n",
       "    </tr>\n",
       "  </thead>\n",
       "  <tbody>\n",
       "    <tr>\n",
       "      <th>0</th>\n",
       "      <td>KNN</td>\n",
       "      <td>accuracy_scores</td>\n",
       "      <td>0.444744</td>\n",
       "    </tr>\n",
       "    <tr>\n",
       "      <th>1</th>\n",
       "      <td>SVC</td>\n",
       "      <td>accuracy_scores</td>\n",
       "      <td>0.642293</td>\n",
       "    </tr>\n",
       "    <tr>\n",
       "      <th>2</th>\n",
       "      <td>NaiveBayes</td>\n",
       "      <td>accuracy_scores</td>\n",
       "      <td>0.529705</td>\n",
       "    </tr>\n",
       "    <tr>\n",
       "      <th>3</th>\n",
       "      <td>DecTree</td>\n",
       "      <td>accuracy_scores</td>\n",
       "      <td>0.517034</td>\n",
       "    </tr>\n",
       "    <tr>\n",
       "      <th>4</th>\n",
       "      <td>LogReg</td>\n",
       "      <td>accuracy_scores</td>\n",
       "      <td>0.656627</td>\n",
       "    </tr>\n",
       "    <tr>\n",
       "      <th>5</th>\n",
       "      <td>MLP</td>\n",
       "      <td>accuracy_scores</td>\n",
       "      <td>0.595555</td>\n",
       "    </tr>\n",
       "    <tr>\n",
       "      <th>6</th>\n",
       "      <td>RandForest</td>\n",
       "      <td>accuracy_scores</td>\n",
       "      <td>0.657457</td>\n",
       "    </tr>\n",
       "    <tr>\n",
       "      <th>7</th>\n",
       "      <td>Voting</td>\n",
       "      <td>accuracy_scores</td>\n",
       "      <td>0.659535</td>\n",
       "    </tr>\n",
       "    <tr>\n",
       "      <th>8</th>\n",
       "      <td>Bagging</td>\n",
       "      <td>accuracy_scores</td>\n",
       "      <td>0.633984</td>\n",
       "    </tr>\n",
       "    <tr>\n",
       "      <th>9</th>\n",
       "      <td>AdaBoost</td>\n",
       "      <td>accuracy_scores</td>\n",
       "      <td>0.635231</td>\n",
       "    </tr>\n",
       "    <tr>\n",
       "      <th>10</th>\n",
       "      <td>GradientBoost</td>\n",
       "      <td>accuracy_scores</td>\n",
       "      <td>0.651433</td>\n",
       "    </tr>\n",
       "    <tr>\n",
       "      <th>11</th>\n",
       "      <td>Stacking</td>\n",
       "      <td>accuracy_scores</td>\n",
       "      <td>0.545700</td>\n",
       "    </tr>\n",
       "    <tr>\n",
       "      <th>12</th>\n",
       "      <td>KNN</td>\n",
       "      <td>precision_scores</td>\n",
       "      <td>0.463742</td>\n",
       "    </tr>\n",
       "    <tr>\n",
       "      <th>13</th>\n",
       "      <td>SVC</td>\n",
       "      <td>precision_scores</td>\n",
       "      <td>0.643482</td>\n",
       "    </tr>\n",
       "    <tr>\n",
       "      <th>14</th>\n",
       "      <td>NaiveBayes</td>\n",
       "      <td>precision_scores</td>\n",
       "      <td>0.561242</td>\n",
       "    </tr>\n",
       "    <tr>\n",
       "      <th>15</th>\n",
       "      <td>DecTree</td>\n",
       "      <td>precision_scores</td>\n",
       "      <td>0.516884</td>\n",
       "    </tr>\n",
       "    <tr>\n",
       "      <th>16</th>\n",
       "      <td>LogReg</td>\n",
       "      <td>precision_scores</td>\n",
       "      <td>0.653451</td>\n",
       "    </tr>\n",
       "    <tr>\n",
       "      <th>17</th>\n",
       "      <td>MLP</td>\n",
       "      <td>precision_scores</td>\n",
       "      <td>0.594336</td>\n",
       "    </tr>\n",
       "    <tr>\n",
       "      <th>18</th>\n",
       "      <td>RandForest</td>\n",
       "      <td>precision_scores</td>\n",
       "      <td>0.647588</td>\n",
       "    </tr>\n",
       "    <tr>\n",
       "      <th>19</th>\n",
       "      <td>Voting</td>\n",
       "      <td>precision_scores</td>\n",
       "      <td>0.650541</td>\n",
       "    </tr>\n",
       "    <tr>\n",
       "      <th>20</th>\n",
       "      <td>Bagging</td>\n",
       "      <td>precision_scores</td>\n",
       "      <td>0.622818</td>\n",
       "    </tr>\n",
       "    <tr>\n",
       "      <th>21</th>\n",
       "      <td>AdaBoost</td>\n",
       "      <td>precision_scores</td>\n",
       "      <td>0.662906</td>\n",
       "    </tr>\n",
       "    <tr>\n",
       "      <th>22</th>\n",
       "      <td>GradientBoost</td>\n",
       "      <td>precision_scores</td>\n",
       "      <td>0.645829</td>\n",
       "    </tr>\n",
       "    <tr>\n",
       "      <th>23</th>\n",
       "      <td>Stacking</td>\n",
       "      <td>precision_scores</td>\n",
       "      <td>0.548855</td>\n",
       "    </tr>\n",
       "    <tr>\n",
       "      <th>24</th>\n",
       "      <td>KNN</td>\n",
       "      <td>recall_scores</td>\n",
       "      <td>0.444744</td>\n",
       "    </tr>\n",
       "    <tr>\n",
       "      <th>25</th>\n",
       "      <td>SVC</td>\n",
       "      <td>recall_scores</td>\n",
       "      <td>0.642293</td>\n",
       "    </tr>\n",
       "    <tr>\n",
       "      <th>26</th>\n",
       "      <td>NaiveBayes</td>\n",
       "      <td>recall_scores</td>\n",
       "      <td>0.529705</td>\n",
       "    </tr>\n",
       "    <tr>\n",
       "      <th>27</th>\n",
       "      <td>DecTree</td>\n",
       "      <td>recall_scores</td>\n",
       "      <td>0.517034</td>\n",
       "    </tr>\n",
       "    <tr>\n",
       "      <th>28</th>\n",
       "      <td>LogReg</td>\n",
       "      <td>recall_scores</td>\n",
       "      <td>0.656627</td>\n",
       "    </tr>\n",
       "    <tr>\n",
       "      <th>29</th>\n",
       "      <td>MLP</td>\n",
       "      <td>recall_scores</td>\n",
       "      <td>0.595555</td>\n",
       "    </tr>\n",
       "    <tr>\n",
       "      <th>30</th>\n",
       "      <td>RandForest</td>\n",
       "      <td>recall_scores</td>\n",
       "      <td>0.657457</td>\n",
       "    </tr>\n",
       "    <tr>\n",
       "      <th>31</th>\n",
       "      <td>Voting</td>\n",
       "      <td>recall_scores</td>\n",
       "      <td>0.659535</td>\n",
       "    </tr>\n",
       "    <tr>\n",
       "      <th>32</th>\n",
       "      <td>Bagging</td>\n",
       "      <td>recall_scores</td>\n",
       "      <td>0.633984</td>\n",
       "    </tr>\n",
       "    <tr>\n",
       "      <th>33</th>\n",
       "      <td>AdaBoost</td>\n",
       "      <td>recall_scores</td>\n",
       "      <td>0.635231</td>\n",
       "    </tr>\n",
       "    <tr>\n",
       "      <th>34</th>\n",
       "      <td>GradientBoost</td>\n",
       "      <td>recall_scores</td>\n",
       "      <td>0.651433</td>\n",
       "    </tr>\n",
       "    <tr>\n",
       "      <th>35</th>\n",
       "      <td>Stacking</td>\n",
       "      <td>recall_scores</td>\n",
       "      <td>0.545700</td>\n",
       "    </tr>\n",
       "  </tbody>\n",
       "</table>\n",
       "</div>"
      ],
      "text/plain": [
       "      model_names            metric     score\n",
       "0             KNN   accuracy_scores  0.444744\n",
       "1             SVC   accuracy_scores  0.642293\n",
       "2      NaiveBayes   accuracy_scores  0.529705\n",
       "3         DecTree   accuracy_scores  0.517034\n",
       "4          LogReg   accuracy_scores  0.656627\n",
       "5             MLP   accuracy_scores  0.595555\n",
       "6      RandForest   accuracy_scores  0.657457\n",
       "7          Voting   accuracy_scores  0.659535\n",
       "8         Bagging   accuracy_scores  0.633984\n",
       "9        AdaBoost   accuracy_scores  0.635231\n",
       "10  GradientBoost   accuracy_scores  0.651433\n",
       "11       Stacking   accuracy_scores  0.545700\n",
       "12            KNN  precision_scores  0.463742\n",
       "13            SVC  precision_scores  0.643482\n",
       "14     NaiveBayes  precision_scores  0.561242\n",
       "15        DecTree  precision_scores  0.516884\n",
       "16         LogReg  precision_scores  0.653451\n",
       "17            MLP  precision_scores  0.594336\n",
       "18     RandForest  precision_scores  0.647588\n",
       "19         Voting  precision_scores  0.650541\n",
       "20        Bagging  precision_scores  0.622818\n",
       "21       AdaBoost  precision_scores  0.662906\n",
       "22  GradientBoost  precision_scores  0.645829\n",
       "23       Stacking  precision_scores  0.548855\n",
       "24            KNN     recall_scores  0.444744\n",
       "25            SVC     recall_scores  0.642293\n",
       "26     NaiveBayes     recall_scores  0.529705\n",
       "27        DecTree     recall_scores  0.517034\n",
       "28         LogReg     recall_scores  0.656627\n",
       "29            MLP     recall_scores  0.595555\n",
       "30     RandForest     recall_scores  0.657457\n",
       "31         Voting     recall_scores  0.659535\n",
       "32        Bagging     recall_scores  0.633984\n",
       "33       AdaBoost     recall_scores  0.635231\n",
       "34  GradientBoost     recall_scores  0.651433\n",
       "35       Stacking     recall_scores  0.545700"
      ]
     },
     "execution_count": 34,
     "metadata": {},
     "output_type": "execute_result"
    }
   ],
   "source": [
    "perf_df = pd.DataFrame()\n",
    "perf_df['model_names'] = model_names\n",
    "perf_df['accuracy_scores'] = accuracy_scores\n",
    "perf_df['precision_scores'] = precision_scores\n",
    "perf_df['recall_scores'] = recall_scores\n",
    "perf_df = pd.melt(perf_df, id_vars=['model_names'], var_name = 'metric', value_name = 'score')\n",
    "perf_df"
   ]
  },
  {
   "cell_type": "code",
   "execution_count": 36,
   "id": "f8696af2",
   "metadata": {},
   "outputs": [
    {
     "name": "stderr",
     "output_type": "stream",
     "text": [
      "<ipython-input-36-c7137b896ced>:7: UserWarning: FixedFormatter should only be used together with FixedLocator\n",
      "  ax.set_xticklabels(['KNN','SVM','NB','DT','LR','MLP','RF','Vote','BAG','ADA','GD','BOOST'])\n"
     ]
    },
    {
     "data": {
      "image/png": "[encoded data removed]",
      "text/plain": [
       "<Figure size 432x288 with 1 Axes>"
      ]
     },
     "metadata": {
      "needs_background": "light"
     },
     "output_type": "display_data"
    }
   ],
   "source": [
    "fig = plt.figure()\n",
    "ax = fig.add_axes([0.1,0.1,0.8,0.8])\n",
    "\n",
    "sns.lineplot(x = 'model_names', y = 'score', hue = 'metric', data = perf_df, ci = None)\n",
    "plt.legend(bbox_to_anchor=(1.05, 1), loc=2, borderaxespad=0.)\n",
    "# ax.set_xticks([2000,2002,2004,2006,2008,2010,2012,2014,2016,2018])\n",
    "ax.set_xticklabels(['KNN','SVM','NB','DT','LR','MLP','RF','VOTE','BAG','ADA','GD','BOOST'])\n",
    "ax.get_legend().set_title(\"Metric\")\n",
    "plt.xlabel(\"Model Type\")\n",
    "plt.ylabel(\"Percent\")\n",
    "plt.title(\"Model Performance\")\n",
    "plt.show()"
   ]
  },
  {
   "cell_type": "code",
   "execution_count": 49,
   "id": "51679ab7",
   "metadata": {},
   "outputs": [
    {
     "data": {
      "text/plain": [
       "(5, 2603)"
      ]
     },
     "execution_count": 49,
     "metadata": {},
     "output_type": "execute_result"
    }
   ],
   "source": [
    "coef_df = pd.DataFrame()\n",
    "coef_df[\"Column_Name\"] = text_train.columns"
   ]
  },
  {
   "cell_type": "code",
   "execution_count": 50,
   "id": "5ec23684",
   "metadata": {},
   "outputs": [
    {
     "data": {
      "image/png": "[encoded data removed]",
      "text/plain": [
       "<Figure size 432x288 with 1 Axes>"
      ]
     },
     "metadata": {
      "needs_background": "light"
     },
     "output_type": "display_data"
    }
   ],
   "source": [
    "Importance = pd.DataFrame({'Importance':rf.feature_importances_*100}) #index=X_train.columns)\n",
    "Importance = Importance.iloc[rf.feature_importances_ > 0,:]\n",
    "Importance = Importance.sort_values('Importance', axis=0, ascending=True)\n",
    "Importance.plot(kind='barh', color='r', )\n",
    "plt.xlabel('Variable Importance')\n",
    "plt.gca().legend_ = None"
   ]
  },
  {
   "cell_type": "code",
   "execution_count": 62,
   "id": "6f15a880",
   "metadata": {},
   "outputs": [
    {
     "data": {
      "text/plain": [
       "Index(['nice', 'frozen', 'birthday', 'ship', 'ba', 'louder', 'gold', 'wallet',\n",
       "       'electric', 'fuck', 'tryin', 'aye', 'pushing', 'pushin', 'fed', 'hip',\n",
       "       'diamond', 'main', 'gimme', 'lightning', 'bounce', 'listening',\n",
       "       'savior', 'heard', 'wan', 'til', 'nicki', 'section', 'nerve', 'weird',\n",
       "       'neck', 'erase', 'thigh', 'daily', 'gone', 'goodbye', 'college', 'bee',\n",
       "       'whip', 'mon', 'towards', 'evening', 'okay', 'kinda', 'gon', 'girl',\n",
       "       'teeth', 'tag', 'toe', 'ridin'],\n",
       "      dtype='object')"
      ]
     },
     "execution_count": 62,
     "metadata": {},
     "output_type": "execute_result"
    }
   ],
   "source": [
    "Tfid_df.iloc[:,[1513,  884,  203, 1967,  120, 1330,  936, 2465,  698,  886, 2393,\n",
    "             117, 1732, 1731,  776, 1057,  594, 1358,  917, 1285,  255, 1298,\n",
    "            1884, 1026, 2466, 2326, 1514, 1911, 1507, 2499, 1498,  716, 2293,\n",
    "             544,  939,  942,  457,  166, 2510, 1453, 2358,  719, 1541, 1198,\n",
    "             938,  919, 2277, 2247, 2337, 1815]].columns\n",
    "# Importance.sort_values('Importance', axis=0, ascending=False).head(50).index"
   ]
  },
  {
   "cell_type": "code",
   "execution_count": 28,
   "id": "0ecf91d6",
   "metadata": {},
   "outputs": [
    {
     "data": {
      "image/png": "[encoded data removed]",
      "text/plain": [
       "<Figure size 432x288 with 2 Axes>"
      ]
     },
     "metadata": {},
     "output_type": "display_data"
    }
   ],
   "source": [
    "# print(rf_confmatrix/rf_confmatrix.sum(axis = 0))\n",
    "# print(rf_confmatrix)\n",
    "# print(rf_confmatrix)\n",
    "# print(rf_confmatrix.sum(axis = 1))\n",
    "y_test.value_counts()\n",
    "\n",
    "# fig = plt.figure()\n",
    "# ax = fig.add_axes([0.1,0.1,0.8,0.8])\n",
    "\n",
    "x_axis_labels = ['Country','Pop','Rap','RnB','Rock']\n",
    "y_axis_labels = ['Country','Pop','Rap','RnB','Rock']\n",
    "sns.set(font_scale=1.4) # for label size\n",
    "ax = sns.heatmap(rf_confmatrix,\n",
    "            annot=True,\n",
    "            fmt = 'g',\n",
    "            xticklabels = x_axis_labels,\n",
    "            yticklabels = y_axis_labels,\n",
    "            annot_kws={\"size\": 16}) # font size\n",
    "plt.xlabel('Predicted')\n",
    "plt.ylabel('True')\n",
    "plt.yticks(rotation=0)\n",
    "ax.xaxis.tick_top()\n",
    "ax.xaxis.set_label_position('top')\n",
    "plt.title(\"Confusion Matrix\")\n",
    "plt.savefig('Confusion-Matrix.png', pad_inches = 0.4)\n",
    "plt.show()\n"
   ]
  },
  {
   "cell_type": "code",
   "execution_count": 8,
   "id": "7ea0ba68",
   "metadata": {},
   "outputs": [],
   "source": [
    "# Compute WCSS for different numbers of clusters\n",
    "wcss = []\n",
    "for k in range(1,8):\n",
    "    kmeans = KMeans(n_clusters=k)\n",
    "    kmeans.fit(X_tf)\n",
    "    wcss.append(kmeans.inertia_)"
   ]
  },
  {
   "cell_type": "code",
   "execution_count": 10,
   "id": "4c4982f5",
   "metadata": {},
   "outputs": [
    {
     "data": {
      "text/plain": [
       "Text(0.5, 1.0, 'Number of Clusters Based on Lyrics')"
      ]
     },
     "execution_count": 10,
     "metadata": {},
     "output_type": "execute_result"
    },
    {
     "data": {
      "image/png": "[encoded data removed]",
      "text/plain": [
       "<Figure size 432x288 with 1 Axes>"
      ]
     },
     "metadata": {
      "needs_background": "light"
     },
     "output_type": "display_data"
    }
   ],
   "source": [
    "plt.plot(np.arange(1,8),wcss,marker=\"o\")\n",
    "plt.xlabel('Number of Clusters, K')\n",
    "plt.ylabel('WCSS')\n",
    "plt.title(\"Number of Clusters Based on Lyrics\")"
   ]
  },
  {
   "cell_type": "code",
   "execution_count": 85,
   "id": "6e2a2c18",
   "metadata": {},
   "outputs": [],
   "source": [
    "k = 5\n",
    "kmeans = MiniBatchKMeans(k)\n",
    "kmeans.fit(X_tf)\n",
    "labs = kmeans.predict(X_tf)"
   ]
  },
  {
   "cell_type": "code",
   "execution_count": 86,
   "id": "31c9c2d4",
   "metadata": {},
   "outputs": [],
   "source": [
    "order_centroids = kmeans.cluster_centers_.argsort()[:, ::-1]"
   ]
  },
  {
   "cell_type": "code",
   "execution_count": 87,
   "id": "67fbd4a6",
   "metadata": {},
   "outputs": [
    {
     "name": "stdout",
     "output_type": "stream",
     "text": [
      "Cluster 0: time come night never see take girl right say make\n",
      "Cluster 1: baby love come time want wanna need girl take say\n",
      "Cluster 2: nigga bitch fuck shit ayy gon money em wanna huh\n",
      "Cluster 3: love want baby heart need never feel say time wanna\n",
      "Cluster 4: la na ah da tell feel love song come want\n"
     ]
    }
   ],
   "source": [
    "terms = tf.get_feature_names()\n",
    "for i in range(k):\n",
    "    print(\"Cluster %d:\" % i, end='')\n",
    "    for ind in order_centroids[i, :10]:\n",
    "        print(' %s' % terms[ind], end='')\n",
    "    print()"
   ]
  },
  {
   "cell_type": "code",
   "execution_count": 97,
   "id": "79dd47e6",
   "metadata": {},
   "outputs": [],
   "source": [
    "# pca = PCA(n_components=.9)"
   ]
  },
  {
   "cell_type": "code",
   "execution_count": null,
   "id": "e2dfd931",
   "metadata": {},
   "outputs": [],
   "source": [
    "# X_pca = pca.fit(X_tf)"
   ]
  },
  {
   "cell_type": "code",
   "execution_count": 18,
   "id": "51b92785",
   "metadata": {},
   "outputs": [
    {
     "data": {
      "text/plain": [
       "2"
      ]
     },
     "execution_count": 18,
     "metadata": {},
     "output_type": "execute_result"
    }
   ],
   "source": [
    "# pca.n_components_"
   ]
  },
  {
   "cell_type": "code",
   "execution_count": 19,
   "id": "ec4add40",
   "metadata": {},
   "outputs": [],
   "source": [
    "# X_transform = X_pca.transform(X_tf)"
   ]
  },
  {
   "cell_type": "markdown",
   "id": "fe736dcc",
   "metadata": {},
   "source": [
    "### Principal Components Plot"
   ]
  },
  {
   "cell_type": "code",
   "execution_count": 20,
   "id": "97a5a5d9",
   "metadata": {},
   "outputs": [
    {
     "data": {
      "text/plain": [
       "<matplotlib.legend.Legend at 0x29b08d89b50>"
      ]
     },
     "execution_count": 20,
     "metadata": {},
     "output_type": "execute_result"
    },
    {
     "data": {
      "image/png": "[encoded data removed]",
      "text/plain": [
       "<Figure size 432x288 with 1 Axes>"
      ]
     },
     "metadata": {},
     "output_type": "display_data"
    }
   ],
   "source": [
    "# pc1 = X_transform[:,0]\n",
    "# pc2 = X_transform[:,1]\n",
    "# labels = y_kmeans.astype(int)\n",
    "# fig, ax = plt.subplots()\n",
    "# scatter = ax.scatter(pc1, pc2, c=labels)\n",
    "\n",
    "# legend = ax.legend(*scatter.legend_elements(),\n",
    "#                     loc=\"best\", title=\"Lables\")\n",
    "# ax.add_artist(legend)"
   ]
  },
  {
   "cell_type": "code",
   "execution_count": null,
   "id": "da2ceea3",
   "metadata": {},
   "outputs": [],
   "source": []
  }
 ],
 "metadata": {
  "kernelspec": {
   "display_name": "Python 3",
   "language": "python",
   "name": "python3"
  },
  "language_info": {
   "codemirror_mode": {
    "name": "ipython",
    "version": 3
   },
   "file_extension": ".py",
   "mimetype": "text/x-python",
   "name": "python",
   "nbconvert_exporter": "python",
   "pygments_lexer": "ipython3",
   "version": "3.8.8"
  }
 },
 "nbformat": 4,
 "nbformat_minor": 5
}
